{
  "nbformat": 4,
  "nbformat_minor": 0,
  "metadata": {
    "colab": {
      "name": "Untitled1.ipynb",
      "version": "0.3.2",
      "provenance": []
    },
    "kernelspec": {
      "name": "python3",
      "display_name": "Python 3"
    }
  },
  "cells": [
    {
      "cell_type": "markdown",
      "metadata": {
        "id": "WWEr1B1XBloj",
        "colab_type": "text"
      },
      "source": [
        "# Text classification of movie reviews"
      ]
    },
    {
      "cell_type": "markdown",
      "metadata": {
        "id": "OKyWeJUDCG8C",
        "colab_type": "text"
      },
      "source": [
        "Classifying movie reviews  on IMDB as *positive* or *negative*. \n",
        "\n",
        "----------------------------------------------------------------------------------------------------------------"
      ]
    },
    {
      "cell_type": "code",
      "metadata": {
        "id": "kzFzJly4Bfix",
        "colab_type": "code",
        "colab": {
          "base_uri": "https://localhost:8080/",
          "height": 632
        },
        "outputId": "6615dbed-568e-41d2-d123-bdc30ec8fb78"
      },
      "source": [
        "!pip install tf_nightly"
      ],
      "execution_count": 2,
      "outputs": [
        {
          "output_type": "stream",
          "text": [
            "Collecting tf_nightly\n",
            "\u001b[?25l  Downloading https://files.pythonhosted.org/packages/32/cc/7701061e27c14a1f12d8e2caa5101d9b561d9cdec1ae4c7cb383a779d0ab/tf_nightly-1.15.0.dev20190801-cp36-cp36m-manylinux2010_x86_64.whl (109.6MB)\n",
            "\u001b[K     |████████████████████████████████| 109.6MB 1.3MB/s \n",
            "\u001b[?25hRequirement already satisfied: gast>=0.2.0 in /usr/local/lib/python3.6/dist-packages (from tf_nightly) (0.2.2)\n",
            "Collecting tf-estimator-nightly (from tf_nightly)\n",
            "\u001b[?25l  Downloading https://files.pythonhosted.org/packages/33/38/2b37afaa7ff170cc96a183bd897d02f9e91a0ac62fd477bad7452fdc9051/tf_estimator_nightly-1.14.0.dev2019073001-py2.py3-none-any.whl (501kB)\n",
            "\u001b[K     |████████████████████████████████| 501kB 42.4MB/s \n",
            "\u001b[?25hRequirement already satisfied: keras-preprocessing>=1.0.5 in /usr/local/lib/python3.6/dist-packages (from tf_nightly) (1.1.0)\n",
            "Collecting opt-einsum>=2.3.2 (from tf_nightly)\n",
            "\u001b[?25l  Downloading https://files.pythonhosted.org/packages/f6/d6/44792ec668bcda7d91913c75237314e688f70415ab2acd7172c845f0b24f/opt_einsum-2.3.2.tar.gz (59kB)\n",
            "\u001b[K     |████████████████████████████████| 61kB 23.5MB/s \n",
            "\u001b[?25hRequirement already satisfied: protobuf>=3.6.1 in /usr/local/lib/python3.6/dist-packages (from tf_nightly) (3.7.1)\n",
            "Requirement already satisfied: keras-applications>=1.0.8 in /usr/local/lib/python3.6/dist-packages (from tf_nightly) (1.0.8)\n",
            "Requirement already satisfied: termcolor>=1.1.0 in /usr/local/lib/python3.6/dist-packages (from tf_nightly) (1.1.0)\n",
            "Requirement already satisfied: wrapt>=1.11.1 in /usr/local/lib/python3.6/dist-packages (from tf_nightly) (1.11.2)\n",
            "Collecting tb-nightly<1.16.0a0,>=1.15.0a0 (from tf_nightly)\n",
            "\u001b[?25l  Downloading https://files.pythonhosted.org/packages/6e/54/e3d02d99f08ef0c5130e1abb715e83e7a32a4b4662522713f39b18980120/tb_nightly-1.15.0a20190801-py3-none-any.whl (4.3MB)\n",
            "\u001b[K     |████████████████████████████████| 4.3MB 32.3MB/s \n",
            "\u001b[?25hRequirement already satisfied: absl-py>=0.7.0 in /usr/local/lib/python3.6/dist-packages (from tf_nightly) (0.7.1)\n",
            "Requirement already satisfied: grpcio>=1.8.6 in /usr/local/lib/python3.6/dist-packages (from tf_nightly) (1.15.0)\n",
            "Requirement already satisfied: numpy<2.0,>=1.16.0 in /usr/local/lib/python3.6/dist-packages (from tf_nightly) (1.16.4)\n",
            "Requirement already satisfied: astor>=0.6.0 in /usr/local/lib/python3.6/dist-packages (from tf_nightly) (0.8.0)\n",
            "Requirement already satisfied: six>=1.10.0 in /usr/local/lib/python3.6/dist-packages (from tf_nightly) (1.12.0)\n",
            "Requirement already satisfied: wheel>=0.26 in /usr/local/lib/python3.6/dist-packages (from tf_nightly) (0.33.4)\n",
            "Requirement already satisfied: google-pasta>=0.1.6 in /usr/local/lib/python3.6/dist-packages (from tf_nightly) (0.1.7)\n",
            "Requirement already satisfied: setuptools in /usr/local/lib/python3.6/dist-packages (from protobuf>=3.6.1->tf_nightly) (41.0.1)\n",
            "Requirement already satisfied: h5py in /usr/local/lib/python3.6/dist-packages (from keras-applications>=1.0.8->tf_nightly) (2.8.0)\n",
            "Requirement already satisfied: markdown>=2.6.8 in /usr/local/lib/python3.6/dist-packages (from tb-nightly<1.16.0a0,>=1.15.0a0->tf_nightly) (3.1.1)\n",
            "Requirement already satisfied: werkzeug>=0.11.15 in /usr/local/lib/python3.6/dist-packages (from tb-nightly<1.16.0a0,>=1.15.0a0->tf_nightly) (0.15.5)\n",
            "Building wheels for collected packages: opt-einsum\n",
            "  Building wheel for opt-einsum (setup.py) ... \u001b[?25l\u001b[?25hdone\n",
            "  Stored in directory: /root/.cache/pip/wheels/51/3e/a3/b351fae0cbf15373c2136a54a70f43fea5fe91d8168a5faaa4\n",
            "Successfully built opt-einsum\n",
            "Installing collected packages: tf-estimator-nightly, opt-einsum, tb-nightly, tf-nightly\n",
            "Successfully installed opt-einsum-2.3.2 tb-nightly-1.15.0a20190801 tf-estimator-nightly-1.14.0.dev2019073001 tf-nightly-1.15.0.dev20190801\n"
          ],
          "name": "stdout"
        }
      ]
    },
    {
      "cell_type": "code",
      "metadata": {
        "id": "6Hx7Wq5MECPz",
        "colab_type": "code",
        "colab": {
          "base_uri": "https://localhost:8080/",
          "height": 34
        },
        "outputId": "34a1625b-9c05-4ccf-d422-b5ea65956cd5"
      },
      "source": [
        "# Call libraries\n",
        "\n",
        "from __future__ import absolute_import, division, print_function, unicode_literals\n",
        "\n",
        "import tensorflow as tf\n",
        "from tensorflow import keras\n",
        "\n",
        "import numpy as np\n",
        "\n",
        "print(tf.__version__)"
      ],
      "execution_count": 3,
      "outputs": [
        {
          "output_type": "stream",
          "text": [
            "1.15.0-dev20190801\n"
          ],
          "name": "stdout"
        }
      ]
    },
    {
      "cell_type": "markdown",
      "metadata": {
        "id": "MAcF5FFfBifb",
        "colab_type": "text"
      },
      "source": [
        "**Download the IMDB dataset**\n",
        "\n",
        "The IMDB dataset comes packaged with TensorFlow. The dataset has already been pre-processed such that the reviews (sequences of words) have been converted to sequences of integers, where each integer represents a specific word in a dictionary.\n",
        "\n",
        "The following code downloads the IMDB dataset to your machine, and seperates the data into a training and a test set."
      ]
    },
    {
      "cell_type": "code",
      "metadata": {
        "id": "ERKb9FDoEqbR",
        "colab_type": "code",
        "colab": {
          "base_uri": "https://localhost:8080/",
          "height": 51
        },
        "outputId": "f1d769d5-2a02-4953-f10d-e95a2ed583cf"
      },
      "source": [
        "imdb = keras.datasets.imdb\n",
        "\n",
        "(train_data, train_labels), (test_data, test_labels) = imdb.load_data(num_words=10000)"
      ],
      "execution_count": 5,
      "outputs": [
        {
          "output_type": "stream",
          "text": [
            "Downloading data from https://storage.googleapis.com/tensorflow/tf-keras-datasets/imdb.npz\n",
            "17465344/17464789 [==============================] - 0s 0us/step\n"
          ],
          "name": "stdout"
        }
      ]
    },
    {
      "cell_type": "markdown",
      "metadata": {
        "id": "abPzQaqzFf5x",
        "colab_type": "text"
      },
      "source": [
        "The argument num_words=10000 keeps the top 10,000 most frequently occurring words in the training data. The rare words are discarded to keep the size of the data manageable."
      ]
    },
    {
      "cell_type": "markdown",
      "metadata": {
        "id": "AiNEbl2mFria",
        "colab_type": "text"
      },
      "source": [
        "**Explore the data**\n",
        "\n",
        "Let's take a moment to understand the format of the data. The dataset comes preprocessed: each example is an array of integers representing the words of the movie review. Each label is an integer value of either 0 or 1, where 0 is a negative review, and 1 is a positive review."
      ]
    },
    {
      "cell_type": "code",
      "metadata": {
        "id": "2V8mG0U5GJMt",
        "colab_type": "code",
        "colab": {
          "base_uri": "https://localhost:8080/",
          "height": 34
        },
        "outputId": "c446b7f8-b9ac-4ebe-95ce-7a49c19aa12c"
      },
      "source": [
        "print(\"Training entries: {}, labels: {}\".format(len(train_data), len(train_labels)))"
      ],
      "execution_count": 6,
      "outputs": [
        {
          "output_type": "stream",
          "text": [
            "Training entries: 25000, labels: 25000\n"
          ],
          "name": "stdout"
        }
      ]
    },
    {
      "cell_type": "markdown",
      "metadata": {
        "id": "bdcaFB44HC3x",
        "colab_type": "text"
      },
      "source": [
        "\n",
        "Here's what the first review looks like:"
      ]
    },
    {
      "cell_type": "code",
      "metadata": {
        "id": "6aUP9BVlHEnB",
        "colab_type": "code",
        "colab": {
          "base_uri": "https://localhost:8080/",
          "height": 54
        },
        "outputId": "300b844b-a469-4071-d5ba-351d6fc5df82"
      },
      "source": [
        "print(train_data[0])"
      ],
      "execution_count": 7,
      "outputs": [
        {
          "output_type": "stream",
          "text": [
            "[1, 14, 22, 16, 43, 530, 973, 1622, 1385, 65, 458, 4468, 66, 3941, 4, 173, 36, 256, 5, 25, 100, 43, 838, 112, 50, 670, 2, 9, 35, 480, 284, 5, 150, 4, 172, 112, 167, 2, 336, 385, 39, 4, 172, 4536, 1111, 17, 546, 38, 13, 447, 4, 192, 50, 16, 6, 147, 2025, 19, 14, 22, 4, 1920, 4613, 469, 4, 22, 71, 87, 12, 16, 43, 530, 38, 76, 15, 13, 1247, 4, 22, 17, 515, 17, 12, 16, 626, 18, 2, 5, 62, 386, 12, 8, 316, 8, 106, 5, 4, 2223, 5244, 16, 480, 66, 3785, 33, 4, 130, 12, 16, 38, 619, 5, 25, 124, 51, 36, 135, 48, 25, 1415, 33, 6, 22, 12, 215, 28, 77, 52, 5, 14, 407, 16, 82, 2, 8, 4, 107, 117, 5952, 15, 256, 4, 2, 7, 3766, 5, 723, 36, 71, 43, 530, 476, 26, 400, 317, 46, 7, 4, 2, 1029, 13, 104, 88, 4, 381, 15, 297, 98, 32, 2071, 56, 26, 141, 6, 194, 7486, 18, 4, 226, 22, 21, 134, 476, 26, 480, 5, 144, 30, 5535, 18, 51, 36, 28, 224, 92, 25, 104, 4, 226, 65, 16, 38, 1334, 88, 12, 16, 283, 5, 16, 4472, 113, 103, 32, 15, 16, 5345, 19, 178, 32]\n"
          ],
          "name": "stdout"
        }
      ]
    },
    {
      "cell_type": "markdown",
      "metadata": {
        "id": "msAFLhemHk3T",
        "colab_type": "text"
      },
      "source": [
        "Movie reviews may be different lengths. The below code shows the number of words in the first and second reviews. Since inputs to a neural network must be the same length, we'll need to resolve this later."
      ]
    },
    {
      "cell_type": "code",
      "metadata": {
        "id": "z8cnveYsHmgw",
        "colab_type": "code",
        "colab": {
          "base_uri": "https://localhost:8080/",
          "height": 34
        },
        "outputId": "f4413268-37b6-4c13-ca2d-0609aed606c0"
      },
      "source": [
        "len(train_data[0]), len(train_data[1])"
      ],
      "execution_count": 8,
      "outputs": [
        {
          "output_type": "execute_result",
          "data": {
            "text/plain": [
              "(218, 189)"
            ]
          },
          "metadata": {
            "tags": []
          },
          "execution_count": 8
        }
      ]
    },
    {
      "cell_type": "markdown",
      "metadata": {
        "id": "KxK2YpJhH8db",
        "colab_type": "text"
      },
      "source": [
        "**Convert the integers back to words**\n",
        "\n",
        "It may be useful to know how to convert integers back to text. Here, we'll create a helper function to query a dictionary object that contains the integer to string mapping:"
      ]
    },
    {
      "cell_type": "code",
      "metadata": {
        "id": "PzqM8EUQIEcg",
        "colab_type": "code",
        "colab": {
          "base_uri": "https://localhost:8080/",
          "height": 51
        },
        "outputId": "10fa1681-b385-462e-8945-2aca2de5d277"
      },
      "source": [
        "# A dictionary mapping words to an integer index\n",
        "word_index = imdb.get_word_index()\n",
        "\n",
        "# The first indices are reserved\n",
        "word_index = {k:(v+3) for k,v in word_index.items()}\n",
        "word_index[\"<PAD>\"] = 0\n",
        "word_index[\"<START>\"] = 1\n",
        "word_index[\"<UNK>\"] = 2  # unknown\n",
        "word_index[\"<UNUSED>\"] = 3\n",
        "\n",
        "reverse_word_index = dict([(value, key) for (key, value) in word_index.items()])\n",
        "\n",
        "def decode_review(text):\n",
        "    return ' '.join([reverse_word_index.get(i, '?') for i in text])"
      ],
      "execution_count": 9,
      "outputs": [
        {
          "output_type": "stream",
          "text": [
            "Downloading data from https://storage.googleapis.com/tensorflow/tf-keras-datasets/imdb_word_index.json\n",
            "1646592/1641221 [==============================] - 0s 0us/step\n"
          ],
          "name": "stdout"
        }
      ]
    },
    {
      "cell_type": "code",
      "metadata": {
        "id": "koc-VURCKB26",
        "colab_type": "code",
        "colab": {
          "base_uri": "https://localhost:8080/",
          "height": 54
        },
        "outputId": "6511a584-b185-41c5-93e2-090124c6c6cc"
      },
      "source": [
        "# Now we can use the decode_review function to display the text for the first review:\n",
        "\n",
        "decode_review(train_data[0])"
      ],
      "execution_count": 10,
      "outputs": [
        {
          "output_type": "execute_result",
          "data": {
            "text/plain": [
              "\"<START> this film was just brilliant casting location scenery story direction everyone's really suited the part they played and you could just imagine being there robert <UNK> is an amazing actor and now the same being director <UNK> father came from the same scottish island as myself so i loved the fact there was a real connection with this film the witty remarks throughout the film were great it was just brilliant so much that i bought the film as soon as it was released for <UNK> and would recommend it to everyone to watch and the fly fishing was amazing really cried at the end it was so sad and you know what they say if you cry at a film it must have been good and this definitely was also <UNK> to the two little boy's that played the <UNK> of norman and paul they were just brilliant children are often left out of the <UNK> list i think because the stars that play them all grown up are such a big profile for the whole film but these children are amazing and should be praised for what they have done don't you think the whole story was so lovely because it was true and was someone's life after all that was shared with us all\""
            ]
          },
          "metadata": {
            "tags": []
          },
          "execution_count": 10
        }
      ]
    },
    {
      "cell_type": "markdown",
      "metadata": {
        "id": "XAoocmPfKb6P",
        "colab_type": "text"
      },
      "source": [
        "**Prepare the data**\n",
        "\n",
        "The reviews—the arrays of integers—must be converted to tensors before fed into the neural network. This conversion can be done a couple of ways:\n",
        "\n",
        "Convert the arrays into vectors of 0s and 1s indicating word occurrence, similar to a one-hot encoding. For example, the sequence [3, 5] would become a 10,000-dimensional vector that is all zeros except for indices 3 and 5, which are ones. Then, make this the first layer in our network—a Dense layer—that can handle floating point vector data. This approach is memory intensive, though, requiring a num_words * num_reviews size matrix.\n",
        "\n",
        "Alternatively, we can pad the arrays so they all have the same length, then create an integer tensor of shape max_length * num_reviews. We can use an embedding layer capable of handling this shape as the first layer in our network.\n",
        "\n",
        "In this tutorial, we will use the second approach.mk\n",
        "\n",
        "Since the movie reviews must be the same length, we will use the pad_sequences function to standardize the lengths:"
      ]
    },
    {
      "cell_type": "code",
      "metadata": {
        "id": "L71lI3xgNKVz",
        "colab_type": "code",
        "colab": {}
      },
      "source": [
        "train_data = keras.preprocessing.sequence.pad_sequences(train_data,\n",
        "                                                        value=word_index[\"<PAD>\"],\n",
        "                                                        padding='post',\n",
        "                                                        maxlen=256)\n",
        "\n",
        "test_data = keras.preprocessing.sequence.pad_sequences(test_data,\n",
        "                                                       value=word_index[\"<PAD>\"],\n",
        "                                                       padding='post',\n",
        "                                                       maxlen=256)"
      ],
      "execution_count": 0,
      "outputs": []
    },
    {
      "cell_type": "code",
      "metadata": {
        "id": "K86-SAV9NqG2",
        "colab_type": "code",
        "colab": {
          "base_uri": "https://localhost:8080/",
          "height": 340
        },
        "outputId": "4230c721-7ecb-47e5-81b9-5455495afeff"
      },
      "source": [
        "# Let's look at the length of the examples now:\n",
        "len(train_data[0]), len(train_data[1])\n",
        "\n",
        "\n",
        "\n",
        "#And inspect the (now padded) first review:\n",
        "print(train_data[0])"
      ],
      "execution_count": 14,
      "outputs": [
        {
          "output_type": "stream",
          "text": [
            "[   1   14   22   16   43  530  973 1622 1385   65  458 4468   66 3941\n",
            "    4  173   36  256    5   25  100   43  838  112   50  670    2    9\n",
            "   35  480  284    5  150    4  172  112  167    2  336  385   39    4\n",
            "  172 4536 1111   17  546   38   13  447    4  192   50   16    6  147\n",
            " 2025   19   14   22    4 1920 4613  469    4   22   71   87   12   16\n",
            "   43  530   38   76   15   13 1247    4   22   17  515   17   12   16\n",
            "  626   18    2    5   62  386   12    8  316    8  106    5    4 2223\n",
            " 5244   16  480   66 3785   33    4  130   12   16   38  619    5   25\n",
            "  124   51   36  135   48   25 1415   33    6   22   12  215   28   77\n",
            "   52    5   14  407   16   82    2    8    4  107  117 5952   15  256\n",
            "    4    2    7 3766    5  723   36   71   43  530  476   26  400  317\n",
            "   46    7    4    2 1029   13  104   88    4  381   15  297   98   32\n",
            " 2071   56   26  141    6  194 7486   18    4  226   22   21  134  476\n",
            "   26  480    5  144   30 5535   18   51   36   28  224   92   25  104\n",
            "    4  226   65   16   38 1334   88   12   16  283    5   16 4472  113\n",
            "  103   32   15   16 5345   19  178   32    0    0    0    0    0    0\n",
            "    0    0    0    0    0    0    0    0    0    0    0    0    0    0\n",
            "    0    0    0    0    0    0    0    0    0    0    0    0    0    0\n",
            "    0    0    0    0]\n"
          ],
          "name": "stdout"
        }
      ]
    },
    {
      "cell_type": "markdown",
      "metadata": {
        "id": "u7rASWq6N9yB",
        "colab_type": "text"
      },
      "source": [
        "**Build the model**\n",
        "\n",
        "The neural network is created by stacking layers—this requires two main architectural decisions:\n",
        "\n",
        "\n",
        "*   How many layers to use in the model?\n",
        "*   How many hidden units to use for each layer?\n",
        "\n",
        "In this example, the input data consists of an array of word-indices. The labels to predict are either 0 or 1. Let's build a model for this problem:"
      ]
    },
    {
      "cell_type": "code",
      "metadata": {
        "id": "7l1MLue_OaWW",
        "colab_type": "code",
        "colab": {
          "base_uri": "https://localhost:8080/",
          "height": 411
        },
        "outputId": "aa2ce293-2457-45fe-cb29-209f28179a6e"
      },
      "source": [
        "# Input shape is the vocabulary count used for the movie reviews (10,000 words)\n",
        "vocab_size = 10000\n",
        "\n",
        "# Set up the layers\n",
        "model = keras.Sequential()\n",
        "model.add(keras.layers.Embedding(vocab_size, 16))\n",
        "model.add(keras.layers.GlobalAveragePooling1D())\n",
        "model.add(keras.layers.Dense(16, activation=tf.nn.relu))\n",
        "model.add(keras.layers.Dense(1, activation=tf.nn.sigmoid))\n",
        "\n",
        "model.summary()"
      ],
      "execution_count": 15,
      "outputs": [
        {
          "output_type": "stream",
          "text": [
            "W0801 12:58:48.293329 140707553859456 deprecation.py:506] From /usr/local/lib/python3.6/dist-packages/tensorflow_core/python/keras/initializers.py:119: calling RandomUniform.__init__ (from tensorflow.python.ops.init_ops) with dtype is deprecated and will be removed in a future version.\n",
            "Instructions for updating:\n",
            "Call initializer instance with the dtype argument instead of passing it to the constructor\n",
            "W0801 12:58:48.318150 140707553859456 deprecation.py:506] From /usr/local/lib/python3.6/dist-packages/tensorflow_core/python/ops/resource_variable_ops.py:1633: calling BaseResourceVariable.__init__ (from tensorflow.python.ops.resource_variable_ops) with constraint is deprecated and will be removed in a future version.\n",
            "Instructions for updating:\n",
            "If using Keras pass *_constraint arguments to layers.\n"
          ],
          "name": "stderr"
        },
        {
          "output_type": "stream",
          "text": [
            "Model: \"sequential\"\n",
            "_________________________________________________________________\n",
            "Layer (type)                 Output Shape              Param #   \n",
            "=================================================================\n",
            "embedding (Embedding)        (None, None, 16)          160000    \n",
            "_________________________________________________________________\n",
            "global_average_pooling1d (Gl (None, 16)                0         \n",
            "_________________________________________________________________\n",
            "dense (Dense)                (None, 16)                272       \n",
            "_________________________________________________________________\n",
            "dense_1 (Dense)              (None, 1)                 17        \n",
            "=================================================================\n",
            "Total params: 160,289\n",
            "Trainable params: 160,289\n",
            "Non-trainable params: 0\n",
            "_________________________________________________________________\n"
          ],
          "name": "stdout"
        }
      ]
    },
    {
      "cell_type": "markdown",
      "metadata": {
        "id": "mSaTmpLQO-Dg",
        "colab_type": "text"
      },
      "source": [
        "The layers are stacked sequentially to build the classifier:\n",
        "\n",
        "1.  The first layer is an Embedding layer. This layer takes the integer-encoded vocabulary and looks up the embedding vector for each word-index. These vectors are learned as the model trains. The vectors add a dimension to the output array. The resulting dimensions are: (batch, sequence, embedding).\n",
        "2.   Next, a GlobalAveragePooling1D layer returns a fixed-length output vector for each example by averaging over the sequence dimension. This allows the model to handle input of variable length, in the simplest way possible.\n",
        "3.   This fixed-length output vector is piped through a fully-connected (Dense) layer with 16 hidden units.\n",
        "4.   The last layer is densely connected with a single output node. Using the sigmoid activation function, this value is a float between 0 and 1, representing a probability, or confidence level.\n"
      ]
    },
    {
      "cell_type": "markdown",
      "metadata": {
        "id": "Wen-Wn3KQLq6",
        "colab_type": "text"
      },
      "source": [
        "**Hidden units**\n",
        "\n",
        "The above model has two intermediate or \"hidden\" layers, between the input and output. The number of outputs (units, nodes, or neurons) is the dimension of the representational space for the layer. In other words, the amount of freedom the network is allowed when learning an internal representation.\n",
        "\n",
        "If a model has more hidden units (a higher-dimensional representation space), and/or more layers, then the network can learn more complex representations. However, it makes the network more computationally expensive and may lead to learning unwanted patterns—patterns that improve performance on training data but not on the test data. This is called overfitting, and we'll explore it later."
      ]
    },
    {
      "cell_type": "markdown",
      "metadata": {
        "id": "DByCxpTBQSrB",
        "colab_type": "text"
      },
      "source": [
        "**Loss function and optimizer**\n",
        "\n",
        "A model needs a loss function and an optimizer for training. Since this is a binary classification problem and the model outputs a probability (a single-unit layer with a sigmoid activation), we'll use the binary_crossentropy loss function.\n",
        "\n",
        "This isn't the only choice for a loss function, you could, for instance, choose mean_squared_error. But, generally, binary_crossentropy is better for dealing with probabilities—it measures the \"distance\" between probability distributions, or in our case, between the ground-truth distribution and the predictions.\n",
        "\n",
        "Later, when we are exploring regression problems (say, to predict the price of a house), we will see how to use another loss function called mean squared error."
      ]
    },
    {
      "cell_type": "code",
      "metadata": {
        "id": "xAIqt-BLQXuh",
        "colab_type": "code",
        "colab": {
          "base_uri": "https://localhost:8080/",
          "height": 88
        },
        "outputId": "0ec062b2-41fa-4e8b-d5ce-5666ab003f76"
      },
      "source": [
        "# Now, configure the model to use an optimizer and a loss function:\n",
        "model.compile(optimizer='adam',\n",
        "              loss='binary_crossentropy',\n",
        "              metrics=['acc'])"
      ],
      "execution_count": 16,
      "outputs": [
        {
          "output_type": "stream",
          "text": [
            "W0801 12:59:27.136253 140707553859456 deprecation.py:323] From /usr/local/lib/python3.6/dist-packages/tensorflow_core/python/ops/nn_impl.py:183: where (from tensorflow.python.ops.array_ops) is deprecated and will be removed in a future version.\n",
            "Instructions for updating:\n",
            "Use tf.where in 2.0, which has the same broadcast rule as np.where\n"
          ],
          "name": "stderr"
        }
      ]
    },
    {
      "cell_type": "markdown",
      "metadata": {
        "id": "dlqXm7CARCe1",
        "colab_type": "text"
      },
      "source": [
        "**Create a validation set**\n",
        "\n",
        "When training, we want to check the accuracy of the model on data it hasn't seen before. Create a validation set by setting apart 10,000 examples from the original training data. (Why not use the testing set now? Our goal is to develop and tune our model using only the training data, then use the test data just once to evaluate our accuracy)."
      ]
    },
    {
      "cell_type": "code",
      "metadata": {
        "id": "31MyIPalRa2l",
        "colab_type": "code",
        "colab": {}
      },
      "source": [
        "x_val = train_data[:10000]\n",
        "partial_x_train = train_data[10000:]\n",
        "\n",
        "y_val = train_labels[:10000]\n",
        "partial_y_train = train_labels[10000:]"
      ],
      "execution_count": 0,
      "outputs": []
    },
    {
      "cell_type": "markdown",
      "metadata": {
        "id": "9rHIhulCRwL0",
        "colab_type": "text"
      },
      "source": [
        "**Train the model**\n",
        "\n",
        "Train the model for 40 epochs in mini-batches of 512 samples. This is 40 iterations over all samples in the x_train and y_train tensors. While training, monitor the model's loss and accuracy on the 10,000 samples from the validation set:"
      ]
    },
    {
      "cell_type": "code",
      "metadata": {
        "id": "-9GX7pKLR4ha",
        "colab_type": "code",
        "colab": {
          "base_uri": "https://localhost:8080/",
          "height": 1000
        },
        "outputId": "c112a857-f4ac-4f50-bff8-966a6237400f"
      },
      "source": [
        "history = model.fit(partial_x_train,\n",
        "                    partial_y_train,\n",
        "                    epochs=40,\n",
        "                    batch_size=512,\n",
        "                    validation_data=(x_val, y_val),\n",
        "                    verbose=1)"
      ],
      "execution_count": 18,
      "outputs": [
        {
          "output_type": "stream",
          "text": [
            "W0801 13:03:53.806299 140707553859456 deprecation.py:323] From /usr/local/lib/python3.6/dist-packages/tensorflow_core/python/keras/optimizer_v2/optimizer_v2.py:457: BaseResourceVariable.constraint (from tensorflow.python.ops.resource_variable_ops) is deprecated and will be removed in a future version.\n",
            "Instructions for updating:\n",
            "Apply a constraint manually following the optimizer update step.\n"
          ],
          "name": "stderr"
        },
        {
          "output_type": "stream",
          "text": [
            "Train on 15000 samples, validate on 10000 samples\n",
            "Epoch 1/40\n",
            "15000/15000 [==============================] - 1s 57us/sample - loss: 0.6919 - acc: 0.5915 - val_loss: 0.6895 - val_acc: 0.7215\n",
            "Epoch 2/40\n",
            "15000/15000 [==============================] - 1s 48us/sample - loss: 0.6850 - acc: 0.7381 - val_loss: 0.6795 - val_acc: 0.7507\n",
            "Epoch 3/40\n",
            "15000/15000 [==============================] - 1s 49us/sample - loss: 0.6693 - acc: 0.7626 - val_loss: 0.6596 - val_acc: 0.7581\n",
            "Epoch 4/40\n",
            "15000/15000 [==============================] - 1s 48us/sample - loss: 0.6415 - acc: 0.7625 - val_loss: 0.6280 - val_acc: 0.7601\n",
            "Epoch 5/40\n",
            "15000/15000 [==============================] - 1s 49us/sample - loss: 0.6014 - acc: 0.7937 - val_loss: 0.5869 - val_acc: 0.7896\n",
            "Epoch 6/40\n",
            "15000/15000 [==============================] - 1s 48us/sample - loss: 0.5526 - acc: 0.8163 - val_loss: 0.5413 - val_acc: 0.8084\n",
            "Epoch 7/40\n",
            "15000/15000 [==============================] - 1s 48us/sample - loss: 0.5007 - acc: 0.8339 - val_loss: 0.4938 - val_acc: 0.8257\n",
            "Epoch 8/40\n",
            "15000/15000 [==============================] - 1s 49us/sample - loss: 0.4512 - acc: 0.8522 - val_loss: 0.4522 - val_acc: 0.8398\n",
            "Epoch 9/40\n",
            "15000/15000 [==============================] - 1s 50us/sample - loss: 0.4073 - acc: 0.8681 - val_loss: 0.4169 - val_acc: 0.8497\n",
            "Epoch 10/40\n",
            "15000/15000 [==============================] - 1s 52us/sample - loss: 0.3700 - acc: 0.8784 - val_loss: 0.3891 - val_acc: 0.8552\n",
            "Epoch 11/40\n",
            "15000/15000 [==============================] - 1s 48us/sample - loss: 0.3393 - acc: 0.8873 - val_loss: 0.3667 - val_acc: 0.8629\n",
            "Epoch 12/40\n",
            "15000/15000 [==============================] - 1s 49us/sample - loss: 0.3138 - acc: 0.8936 - val_loss: 0.3498 - val_acc: 0.8666\n",
            "Epoch 13/40\n",
            "15000/15000 [==============================] - 1s 50us/sample - loss: 0.2928 - acc: 0.9008 - val_loss: 0.3353 - val_acc: 0.8715\n",
            "Epoch 14/40\n",
            "15000/15000 [==============================] - 1s 50us/sample - loss: 0.2740 - acc: 0.9065 - val_loss: 0.3245 - val_acc: 0.8752\n",
            "Epoch 15/40\n",
            "15000/15000 [==============================] - 1s 49us/sample - loss: 0.2581 - acc: 0.9109 - val_loss: 0.3159 - val_acc: 0.8764\n",
            "Epoch 16/40\n",
            "15000/15000 [==============================] - 1s 50us/sample - loss: 0.2438 - acc: 0.9169 - val_loss: 0.3087 - val_acc: 0.8775\n",
            "Epoch 17/40\n",
            "15000/15000 [==============================] - 1s 49us/sample - loss: 0.2305 - acc: 0.9209 - val_loss: 0.3029 - val_acc: 0.8797\n",
            "Epoch 18/40\n",
            "15000/15000 [==============================] - 1s 49us/sample - loss: 0.2188 - acc: 0.9249 - val_loss: 0.2983 - val_acc: 0.8822\n",
            "Epoch 19/40\n",
            "15000/15000 [==============================] - 1s 48us/sample - loss: 0.2081 - acc: 0.9272 - val_loss: 0.2940 - val_acc: 0.8828\n",
            "Epoch 20/40\n",
            "15000/15000 [==============================] - 1s 49us/sample - loss: 0.1985 - acc: 0.9315 - val_loss: 0.2914 - val_acc: 0.8838\n",
            "Epoch 21/40\n",
            "15000/15000 [==============================] - 1s 49us/sample - loss: 0.1884 - acc: 0.9376 - val_loss: 0.2891 - val_acc: 0.8851\n",
            "Epoch 22/40\n",
            "15000/15000 [==============================] - 1s 50us/sample - loss: 0.1802 - acc: 0.9407 - val_loss: 0.2874 - val_acc: 0.8843\n",
            "Epoch 23/40\n",
            "15000/15000 [==============================] - 1s 50us/sample - loss: 0.1718 - acc: 0.9442 - val_loss: 0.2873 - val_acc: 0.8843\n",
            "Epoch 24/40\n",
            "15000/15000 [==============================] - 1s 51us/sample - loss: 0.1646 - acc: 0.9476 - val_loss: 0.2863 - val_acc: 0.8851\n",
            "Epoch 25/40\n",
            "15000/15000 [==============================] - 1s 49us/sample - loss: 0.1571 - acc: 0.9509 - val_loss: 0.2857 - val_acc: 0.8856\n",
            "Epoch 26/40\n",
            "15000/15000 [==============================] - 1s 48us/sample - loss: 0.1506 - acc: 0.9531 - val_loss: 0.2870 - val_acc: 0.8843\n",
            "Epoch 27/40\n",
            "15000/15000 [==============================] - 1s 49us/sample - loss: 0.1443 - acc: 0.9557 - val_loss: 0.2871 - val_acc: 0.8848\n",
            "Epoch 28/40\n",
            "15000/15000 [==============================] - 1s 48us/sample - loss: 0.1383 - acc: 0.9581 - val_loss: 0.2884 - val_acc: 0.8847\n",
            "Epoch 29/40\n",
            "15000/15000 [==============================] - 1s 48us/sample - loss: 0.1330 - acc: 0.9612 - val_loss: 0.2905 - val_acc: 0.8843\n",
            "Epoch 30/40\n",
            "15000/15000 [==============================] - 1s 48us/sample - loss: 0.1274 - acc: 0.9629 - val_loss: 0.2906 - val_acc: 0.8844\n",
            "Epoch 31/40\n",
            "15000/15000 [==============================] - 1s 49us/sample - loss: 0.1218 - acc: 0.9654 - val_loss: 0.2923 - val_acc: 0.8857\n",
            "Epoch 32/40\n",
            "15000/15000 [==============================] - 1s 49us/sample - loss: 0.1168 - acc: 0.9677 - val_loss: 0.2943 - val_acc: 0.8853\n",
            "Epoch 33/40\n",
            "15000/15000 [==============================] - 1s 50us/sample - loss: 0.1120 - acc: 0.9691 - val_loss: 0.2972 - val_acc: 0.8839\n",
            "Epoch 34/40\n",
            "15000/15000 [==============================] - 1s 51us/sample - loss: 0.1077 - acc: 0.9701 - val_loss: 0.3001 - val_acc: 0.8835\n",
            "Epoch 35/40\n",
            "15000/15000 [==============================] - 1s 50us/sample - loss: 0.1035 - acc: 0.9719 - val_loss: 0.3035 - val_acc: 0.8832\n",
            "Epoch 36/40\n",
            "15000/15000 [==============================] - 1s 48us/sample - loss: 0.0993 - acc: 0.9735 - val_loss: 0.3055 - val_acc: 0.8831\n",
            "Epoch 37/40\n",
            "15000/15000 [==============================] - 1s 48us/sample - loss: 0.0951 - acc: 0.9751 - val_loss: 0.3087 - val_acc: 0.8823\n",
            "Epoch 38/40\n",
            "15000/15000 [==============================] - 1s 50us/sample - loss: 0.0913 - acc: 0.9765 - val_loss: 0.3130 - val_acc: 0.8816\n",
            "Epoch 39/40\n",
            "15000/15000 [==============================] - 1s 48us/sample - loss: 0.0882 - acc: 0.9777 - val_loss: 0.3175 - val_acc: 0.8800\n",
            "Epoch 40/40\n",
            "15000/15000 [==============================] - 1s 48us/sample - loss: 0.0841 - acc: 0.9795 - val_loss: 0.3208 - val_acc: 0.8812\n"
          ],
          "name": "stdout"
        }
      ]
    },
    {
      "cell_type": "markdown",
      "metadata": {
        "id": "bsa1UcyjSEtX",
        "colab_type": "text"
      },
      "source": [
        "**Evaluate the model**\n",
        "\n",
        "And let's see how the model performs. Two values will be returned. Loss (a number which represents our error, lower values are better), and accuracy."
      ]
    },
    {
      "cell_type": "code",
      "metadata": {
        "id": "UxJG17gYSOWi",
        "colab_type": "code",
        "colab": {
          "base_uri": "https://localhost:8080/",
          "height": 51
        },
        "outputId": "61e4cc7d-3d0b-4be0-98a6-69fe53a8cfe7"
      },
      "source": [
        "results = model.evaluate(test_data, test_labels)\n",
        "\n",
        "print(results)\n",
        "\n",
        "# This fairly naive approach achieves an accuracy of about 87%. With more advanced approaches, the model should get closer to 95%."
      ],
      "execution_count": 20,
      "outputs": [
        {
          "output_type": "stream",
          "text": [
            "25000/25000 [==============================] - 1s 37us/sample - loss: 0.3433 - acc: 0.8695\n",
            "[0.34328948720932007, 0.86952]\n"
          ],
          "name": "stdout"
        }
      ]
    },
    {
      "cell_type": "markdown",
      "metadata": {
        "id": "9GskxRUHSgWw",
        "colab_type": "text"
      },
      "source": [
        "**Create a graph of accuracy and loss over time**\n",
        "\n",
        "model.fit() returns a History object that contains a dictionary with everything that happened during training:"
      ]
    },
    {
      "cell_type": "code",
      "metadata": {
        "id": "Wv4oFmjUSmDH",
        "colab_type": "code",
        "colab": {
          "base_uri": "https://localhost:8080/",
          "height": 34
        },
        "outputId": "a6fea72a-4eb9-4c99-846c-93ab4feb45af"
      },
      "source": [
        "history_dict = history.history\n",
        "history_dict.keys()"
      ],
      "execution_count": 21,
      "outputs": [
        {
          "output_type": "execute_result",
          "data": {
            "text/plain": [
              "dict_keys(['loss', 'acc', 'val_loss', 'val_acc'])"
            ]
          },
          "metadata": {
            "tags": []
          },
          "execution_count": 21
        }
      ]
    },
    {
      "cell_type": "markdown",
      "metadata": {
        "id": "CIBEfGiISqXE",
        "colab_type": "text"
      },
      "source": [
        "There are four entries: one for each monitored metric during training and validation. We can use these to plot the training and validation loss for comparison, as well as the training and validation accuracy:"
      ]
    },
    {
      "cell_type": "code",
      "metadata": {
        "id": "CxgnHPU8SsAr",
        "colab_type": "code",
        "colab": {
          "base_uri": "https://localhost:8080/",
          "height": 295
        },
        "outputId": "3c53c3d3-f65e-4e9b-c285-359019939f35"
      },
      "source": [
        "import matplotlib.pyplot as plt\n",
        "\n",
        "acc = history_dict['acc']\n",
        "val_acc = history_dict['val_acc']\n",
        "loss = history_dict['loss']\n",
        "val_loss = history_dict['val_loss']\n",
        "\n",
        "epochs = range(1, len(acc) + 1)\n",
        "\n",
        "# Plotting loss\n",
        "\n",
        "# \"bo\" is for \"blue dot\"\n",
        "plt.plot(epochs, loss, 'bo', label='Training loss')\n",
        "# b is for \"solid blue line\"\n",
        "plt.plot(epochs, val_loss, 'b', label='Validation loss')\n",
        "plt.title('Training and validation loss')\n",
        "plt.xlabel('Epochs')\n",
        "plt.ylabel('Loss')\n",
        "plt.legend()\n",
        "\n",
        "plt.show()"
      ],
      "execution_count": 22,
      "outputs": [
        {
          "output_type": "display_data",
          "data": {
            "image/png": "[encoded data removed]",
            "text/plain": [
              "<Figure size 432x288 with 1 Axes>"
            ]
          },
          "metadata": {
            "tags": []
          }
        }
      ]
    },
    {
      "cell_type": "code",
      "metadata": {
        "id": "GMOoK2lWS1LC",
        "colab_type": "code",
        "colab": {
          "base_uri": "https://localhost:8080/",
          "height": 295
        },
        "outputId": "5944ba6e-6200-4e84-ab0e-12e435d007d2"
      },
      "source": [
        "# Plotting accuracy\n",
        "\n",
        "plt.clf()   # clear figure\n",
        "\n",
        "plt.plot(epochs, acc, 'bo', label='Training acc')\n",
        "plt.plot(epochs, val_acc, 'b', label='Validation acc')\n",
        "plt.title('Training and validation accuracy')\n",
        "plt.xlabel('Epochs')\n",
        "plt.ylabel('Accuracy')\n",
        "plt.legend()\n",
        "\n",
        "plt.show()"
      ],
      "execution_count": 23,
      "outputs": [
        {
          "output_type": "display_data",
          "data": {
            "image/png": "[encoded data removed]",
            "text/plain": [
              "<Figure size 432x288 with 1 Axes>"
            ]
          },
          "metadata": {
            "tags": []
          }
        }
      ]
    },
    {
      "cell_type": "markdown",
      "metadata": {
        "id": "J01Eg4o1TO-s",
        "colab_type": "text"
      },
      "source": [
        "In this plot, the dots represent the training loss and accuracy, and the solid lines are the validation loss and accuracy.\n",
        "\n",
        "Notice the training loss *decreases* with each epoch and the training accuracy *increases* with each epoch. This is expected when using a gradient descent optimization—it should minimize the desired quantity on every iteration.\n",
        "\n",
        "This isn't the case for the validation loss and accuracy—they seem to peak after about twenty epochs. This is an example of **overfitting**: the model performs better on the training data than it does on data it has never seen before. After this point, the model over-optimizes and learns representations specific to the training data that do not generalize to test data.\n",
        "\n",
        "For this particular case, we could prevent overfitting by simply stopping the training after twenty or so epochs. "
      ]
    }
  ]
}